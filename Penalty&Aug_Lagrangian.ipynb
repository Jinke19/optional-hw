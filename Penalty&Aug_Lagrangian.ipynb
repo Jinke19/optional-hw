{
  "nbformat": 4,
  "nbformat_minor": 0,
  "metadata": {
    "colab": {
      "name": "Penalty&Aug.Lagrangian.ipynb",
      "provenance": []
    },
    "kernelspec": {
      "name": "python3",
      "display_name": "Python 3"
    }
  },
  "cells": [
    {
      "cell_type": "code",
      "metadata": {
        "id": "vtVe-6nyfttZ"
      },
      "source": [
        "import numpy as np\r\n",
        "from numpy import linalg as la"
      ],
      "execution_count": 1,
      "outputs": []
    },
    {
      "cell_type": "markdown",
      "metadata": {
        "id": "UB31aVC1iWnI"
      },
      "source": [
        "## Unconstraied Optimization Method: Backtracking Linesearch"
      ]
    },
    {
      "cell_type": "code",
      "metadata": {
        "id": "8sZmbozDiupX"
      },
      "source": [
        "def backtracking(method,fun,mu_k,lambda_k,xk,pk,alpha=1,eta=0.01,tau=0.5):\r\n",
        "    \"\"\"\r\n",
        "    Compute the stepsize in line search method\r\n",
        "    \r\n",
        "    \"\"\"\r\n",
        "    if method == \"penalty method\":\r\n",
        "        lambda_k = 0\r\n",
        "    a = alpha\r\n",
        "    F1 = eval(fun)(xk+a*pk,mu_k,lambda_k)[0]\r\n",
        "    [F2,G] = eval(fun)(xk,mu_k,lambda_k)\r\n",
        "\r\n",
        "    while (F1 > F2 + eta * a * np.dot(G,pk)):\r\n",
        "        \r\n",
        "        a = tau * a\r\n",
        "        F1 = eval(fun)(xk+a*pk,mu_k,lambda_k)[0]\r\n",
        "        [F2,G] = eval(fun)(xk,mu_k,lambda_k) \r\n",
        "    \r\n",
        "    return a\r\n",
        "\r\n",
        "def uncMIN(fun,x0,mu_k,lambda_k,maxit,tol,method):\r\n",
        "\r\n",
        "    \"\"\"\r\n",
        "    Minimizing function using backtracking-Armijo linesearch\r\n",
        "\r\n",
        "    Input:\r\n",
        "    Fun: string that holds the name of python function.\r\n",
        "    x0: initial guess\r\n",
        "    maxit:  maximum number of iterations allowe\r\n",
        "    tol: final stopping tolerance\r\n",
        "\r\n",
        "    Output:\r\n",
        "    x: final iterate\r\n",
        "    F: functional value on final iterate\r\n",
        "    G: Gradient\r\n",
        "    H: Hessian\r\n",
        "    iter: total number of iterations\r\n",
        "    status: 0 if the tolerance is obtained, 1 otherwise \r\n",
        "    \"\"\" \r\n",
        "    if method == \"penalty method\":\r\n",
        "        lambda_k = 0\r\n",
        "    iter_ = 0\r\n",
        "    status = 1\r\n",
        "    x = x0\r\n",
        "    [F0,G0] = eval(fun)(x,mu_k,lambda_k)\r\n",
        "\r\n",
        "    F = F0\r\n",
        "    G = G0\r\n",
        "\r\n",
        "\r\n",
        "    while la.norm(G) > tol * max(1,la.norm(G0)) and iter_ < maxit:\r\n",
        "        iter_ += 1\r\n",
        "        ### search direction ###\r\n",
        "        p = -G \r\n",
        "\r\n",
        "\r\n",
        "        ### stepsize using backtracking-Armijo ###\r\n",
        "        a = backtracking(method,fun,mu_k,lambda_k,x,p)\r\n",
        "        x = x + a*p \r\n",
        "        [F,G] = eval(fun)(x,mu_k,lambda_k)\r\n",
        "        print(\"iter:\",iter_,\"xk:\",x,\"fk:\",F,\"gk\",la.norm(G))\r\n",
        "        \r\n",
        "        \r\n",
        "    if (la.norm(G) <= tol * la.norm(G0)):\r\n",
        "        status = 0\r\n",
        "    \r\n",
        "    return  [x,F,G,iter_,status]"
      ],
      "execution_count": 76,
      "outputs": []
    },
    {
      "cell_type": "markdown",
      "metadata": {
        "id": "cc8xtsFKg1HO"
      },
      "source": [
        "## Penalty Method\r\n",
        "Consider the optimization problem:\r\n",
        "$$min\\quad x+\\sqrt 3y$$\r\n",
        "$$ s.t\\quad x^2+y^2=1$$ \r\n",
        "\r\n",
        "The optimal is $x^*=(-1/2,-\\sqrt 3/2)$, the corresponding Lagrangian multiplier is $\\lambda^*=1$\r\n"
      ]
    },
    {
      "cell_type": "code",
      "metadata": {
        "colab": {
          "base_uri": "https://localhost:8080/"
        },
        "id": "ACDct4dFg0hO",
        "outputId": "d0afc015-7a82-446e-b8ac-d1ae6dbd01e2"
      },
      "source": [
        "def obj_penalty(x_k,mu_k,lambda_k):\r\n",
        "    x = x_k[0]\r\n",
        "    y = x_k[1]\r\n",
        "    #objective value\r\n",
        "    F = x + np.sqrt(3)*y + 0.5 * mu_k * (x**2+y**2-1)**2\r\n",
        "    #Gradient\r\n",
        "    G1 = 1 + 2 * mu_k * (x**2+y**2-1) * x\r\n",
        "    G2 = np.sqrt(3) + 2 * mu_k * (x**2+y**2-1) * y\r\n",
        "    G = np.array([G1,G2])\r\n",
        "    return [F,G]\r\n",
        "\r\n",
        "def penalty_method(tol,mu_k,x_k,max_iter,lambda_k=0):\r\n",
        "    for i in range(max_iter):\r\n",
        "        x_k = uncMIN(\"obj_penalty\",x_k,mu_k,lambda_k,500,tol,\"penalty method\")[0]\r\n",
        "        print(\"iteration:\",i+1,\"x_k: \",x_k,\"mu_k: \",mu_k)\r\n",
        "        print(\"-----------\")\r\n",
        "        mu_k = mu_k*1.5\r\n",
        "    return x_k\r\n",
        "\r\n",
        "tol = 1e-5\r\n",
        "mu_0 = 20\r\n",
        "x_0 = np.array([-0.5,0])\r\n",
        "penalty_method(tol,mu_0,x_0,10)\r\n"
      ],
      "execution_count": 14,
      "outputs": [
        {
          "output_type": "stream",
          "text": [
            "iteration: 1 x_k:  [-0.51200886 -0.88694274] mu_k:  20\n",
            "-----------\n",
            "iteration: 2 x_k:  [-0.50813368 -0.88011367] mu_k:  30.0\n",
            "-----------\n",
            "iteration: 3 x_k:  [-0.50546548 -0.87549215] mu_k:  45.0\n",
            "-----------\n",
            "iteration: 4 x_k:  [-0.50366323 -0.87237055] mu_k:  67.5\n",
            "-----------\n",
            "iteration: 5 x_k:  [-0.50245098 -0.87027083] mu_k:  101.25\n",
            "-----------\n",
            "iteration: 6 x_k:  [-0.50163795 -0.86886261] mu_k:  151.875\n",
            "-----------\n",
            "iteration: 7 x_k:  [-0.50109374 -0.86791997] mu_k:  227.8125\n",
            "-----------\n",
            "iteration: 8 x_k:  [-0.50072993 -0.86728983] mu_k:  341.71875\n",
            "-----------\n",
            "iteration: 9 x_k:  [-0.50048695 -0.86686898] mu_k:  512.578125\n",
            "-----------\n",
            "iteration: 10 x_k:  [-0.50032477 -0.86658807] mu_k:  768.8671875\n",
            "-----------\n"
          ],
          "name": "stdout"
        },
        {
          "output_type": "execute_result",
          "data": {
            "text/plain": [
              "array([-0.50032477, -0.86658807])"
            ]
          },
          "metadata": {
            "tags": []
          },
          "execution_count": 14
        }
      ]
    },
    {
      "cell_type": "markdown",
      "metadata": {
        "id": "rTH3_rSpRUWA"
      },
      "source": [
        "## Augmented Lagrangian\r\n",
        "Problem: \r\n",
        "$$ min \\quad x_1+x_2$$\r\n",
        "$$ s.t \\quad x_1^2+x_2^2-2=0$$\r\n",
        "Solution:\r\n",
        "$(-1,1)$\r\n"
      ]
    },
    {
      "cell_type": "code",
      "metadata": {
        "colab": {
          "base_uri": "https://localhost:8080/"
        },
        "id": "5sEqJEW9grvE",
        "outputId": "b8298198-a77c-42db-e1d1-bcce640d469d"
      },
      "source": [
        "def Lag(x_k,mu_k,lambda_k):\r\n",
        "    x1 = x_k[0]\r\n",
        "    x2 = x_k[1]\r\n",
        "    #objective value\r\n",
        "    F = x1 + x2 - lambda_k*(x1**2+x2**2-2) + 0.5 * mu_k * (x1**2+x2**2-2)**2\r\n",
        "    #Gradient\r\n",
        "    G1 = 1 - 2*lambda_k*x1 + 2*mu_k*(x1**2+x2**2-2)*x1\r\n",
        "    G2 = 1 - 2*lambda_k*x2 + 2*mu_k*(x1**2+x2**2-2)*x2\r\n",
        "    G = np.array([G1,G2])\r\n",
        "    return [F,G]\r\n",
        "def aug_Lag(tol_k,mu_k,lambda_k,x_k,max_iter):\r\n",
        "    for i in range(max_iter):\r\n",
        "        x_k= uncMIN(\"Lag\",x_k,mu_k,lambda_k,500,tol_k,\"augmented Lagrangian\")[0]\r\n",
        "        print(\"lamb\",lambda_k)\r\n",
        "        print(\"mu_k\",mu_k)\r\n",
        "        print(\"iteration:\",i+1,\"x_k: \",x_k)\r\n",
        "        print(\"-----------\")\r\n",
        "        lambda_k = lambda_k - mu_k * (x_k[0]**2 + x_k[1]**2 - 2)\r\n",
        "        mu_k = mu_k * 1.5\r\n",
        "        \r\n",
        "    return x_k\r\n",
        "\r\n",
        "tol = 1e-5\r\n",
        "mu_0 = 10\r\n",
        "lambda_0 = 1\r\n",
        "x_0 = np.array([5,-5])\r\n",
        "print(\"------------------\")\r\n",
        "print(\"solution:\",aug_Lag(1e-5,mu_0,lambda_0,x_0,10))"
      ],
      "execution_count": 38,
      "outputs": [
        {
          "output_type": "stream",
          "text": [
            "------------------\n",
            "lamb 1\n",
            "mu_k 10\n",
            "iteration: 1 x_k:  [-1.07451143 -0.99616319]\n",
            "-----------\n",
            "lamb -0.46915919940523665\n",
            "mu_k 15.0\n",
            "iteration: 2 x_k:  [-1.00053855 -1.00048126]\n",
            "-----------\n",
            "lamb -0.4997614383884361\n",
            "mu_k 22.5\n",
            "iteration: 3 x_k:  [-1.00000809 -0.99999723]\n",
            "-----------\n",
            "lamb -0.5000008544208054\n",
            "mu_k 33.75\n",
            "iteration: 4 x_k:  [-1.00000539 -0.99999461]\n",
            "-----------\n",
            "lamb -0.5000012391043355\n",
            "mu_k 50.625\n",
            "iteration: 5 x_k:  [-1.00000539 -0.99999461]\n",
            "-----------\n",
            "lamb -0.5000018161296305\n",
            "mu_k 75.9375\n",
            "iteration: 6 x_k:  [-1.00000532 -0.99999468]\n",
            "-----------\n",
            "lamb -0.5000013210435958\n",
            "mu_k 113.90625\n",
            "iteration: 7 x_k:  [-1.00000532 -0.99999468]\n",
            "-----------\n",
            "lamb -0.5000005784145438\n",
            "mu_k 170.859375\n",
            "iteration: 8 x_k:  [-1.00000532 -0.99999468]\n",
            "-----------\n",
            "lamb -0.4999994644709658\n",
            "mu_k 256.2890625\n",
            "iteration: 9 x_k:  [-1.00000532 -0.99999468]\n",
            "-----------\n",
            "lamb -0.4999977935555988\n",
            "mu_k 384.43359375\n",
            "iteration: 10 x_k:  [-1.00000489 -0.99999511]\n",
            "-----------\n",
            "solution: [-1.00000489 -0.99999511]\n"
          ],
          "name": "stdout"
        }
      ]
    },
    {
      "cell_type": "markdown",
      "metadata": {
        "id": "yZ-SYNQrUn3R"
      },
      "source": [
        "## Compressed Sensing\r\n",
        "Problem:\r\n",
        "$$ min\\quad 1^Tz$$\r\n",
        "$$ s.t\\quad \\phi z-y=0$$\r\n",
        "$$ z\\geq0$$"
      ]
    },
    {
      "cell_type": "code",
      "metadata": {
        "id": "eRNHb4U5VwJr"
      },
      "source": [
        "x=np.zeros(10)\r\n",
        "idx=np.random.randint(10, size=4)\r\n",
        "val=np.random.random(size=4)\r\n",
        "x[idx]=val\r\n",
        "phi=np.random.normal(size=(15,10))\r\n",
        "x0=x \r\n",
        "y0=phi@x "
      ],
      "execution_count": 69,
      "outputs": []
    },
    {
      "cell_type": "markdown",
      "metadata": {
        "id": "y_pSeugXU92L"
      },
      "source": [
        "### Penalty Method"
      ]
    },
    {
      "cell_type": "code",
      "metadata": {
        "id": "RU4MrCXHy4XH"
      },
      "source": [
        "def obj_penalty(x_k,mu_k,lambda_k):\r\n",
        "    g = np.empty(10)\r\n",
        "    #objective value\r\n",
        "    F = np.sum(x_k) + 0.5*mu_k*(la.norm(np.sum(phi@x_k-y0))**2) + 0.5*mu_k*(la.norm(np.maximum(x_k,np.array([0]*10)))**2)\r\n",
        "    #Gradient\r\n",
        "    for i in range(10):\r\n",
        "        if x_k[i]>=0:\r\n",
        "            g[i] = 0\r\n",
        "        else:\r\n",
        "            g[i] = 2*x_k[i]\r\n",
        "    G = np.array([1]*10) + mu_k*(phi.T@phi@x_k-phi.T@y0) + 0.5*mu_k*g\r\n",
        "    return [F,G]\r\n",
        "def penalty_method(tol,mu_k,x_k,max_iter,lambda_k=0):\r\n",
        "    for i in range(max_iter):\r\n",
        "        x_k = uncMIN(\"obj_penalty\",x_k,mu_k,lambda_k,500,tol,\"penalty method\")[0]\r\n",
        "        print(\"iteration:\",i+1,\"x_k: \",x_k,\"mu_k: \",mu_k)\r\n",
        "        print(\"-----------\")\r\n",
        "        mu_k = mu_k*1.5\r\n",
        "    return x_k\r\n",
        "#penalty_method(1e-5,10,np.array([0]*10),20)"
      ],
      "execution_count": 85,
      "outputs": []
    },
    {
      "cell_type": "markdown",
      "metadata": {
        "id": "llhhN7Z-iwDd"
      },
      "source": [
        "Results:"
      ]
    },
    {
      "cell_type": "markdown",
      "metadata": {
        "id": "oii0AKDGilis"
      },
      "source": [
        "Discussion: The augmented Lagrangian method can avoid the problem of ill-conditioned Hessain matrix when $\\mu$ is large, so it converges faster than penalty method"
      ]
    }
  ]
}